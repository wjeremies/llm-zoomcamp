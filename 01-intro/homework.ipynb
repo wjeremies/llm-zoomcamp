{
 "cells": [
  {
   "cell_type": "code",
   "execution_count": 14,
   "id": "9cd2993d-1445-4cd3-95d4-7c6c4284cb57",
   "metadata": {},
   "outputs": [],
   "source": [
    "import openai"
   ]
  },
  {
   "cell_type": "code",
   "execution_count": 15,
   "id": "674fc73b-57d5-4256-9988-840ddda7bab4",
   "metadata": {},
   "outputs": [],
   "source": [
    "from openai import OpenAI"
   ]
  },
  {
   "cell_type": "code",
   "execution_count": 16,
   "id": "b2e55c0e-2c64-4ec6-9fa9-3fe3c8927329",
   "metadata": {},
   "outputs": [],
   "source": [
    "client = OpenAI()"
   ]
  },
  {
   "cell_type": "code",
   "execution_count": 17,
   "id": "15c0f622-efa5-4ebd-a648-989156f0e2c2",
   "metadata": {},
   "outputs": [],
   "source": [
    "import os"
   ]
  },
  {
   "cell_type": "code",
   "execution_count": 18,
   "id": "77e3dade-1764-45bb-a7ec-bc979908a209",
   "metadata": {},
   "outputs": [],
   "source": [
    "response = client.chat.completions.create(model='gpt-4o',messages=[{\"role\":\"user\",\"content\":\"is it too late to join the course?\"}])"
   ]
  },
  {
   "cell_type": "code",
   "execution_count": 21,
   "id": "59bad099-411a-45d0-88a9-86ec0208b3f5",
   "metadata": {},
   "outputs": [
    {
     "data": {
      "text/plain": [
       "\"The answer to whether it's too late to join a course depends on various factors, such as the course's enrollment deadlines, start dates, and the policies of the institution offering the course. Here are some steps you can take to find out:\\n\\n1. **Check the Course Details**: Look for any information about registration deadlines on the course's official website or the educational platform hosting it.\\n\\n2. **Contact the Instructor or Institution**: Reach out to the course instructor, department, or enrollment office. They can provide you with the most accurate and up-to-date information on whether you can still join.\\n\\n3. **Review Enrollment Policies**: Some courses or institutions may allow late enrollment or have policies for adding courses after the official start date, sometimes with special permission or under certain conditions.\\n\\n4. **Online Courses**: If the course is online and self-paced, there may be more flexibility in joining late, as these courses often do not adhere to strict start and end dates.\\n\\n5. **Look for Alternatives**: If it's too late to enroll in this particular course, consider looking for similar courses that may be starting soon or have rolling admission.\\n\\nIt’s best to act quickly to get the information you need and to secure your place if late enrollment is still possible.\""
      ]
     },
     "execution_count": 21,
     "metadata": {},
     "output_type": "execute_result"
    }
   ],
   "source": [
    "response.choices[0].message.content"
   ]
  },
  {
   "cell_type": "code",
   "execution_count": null,
   "id": "b04efcd3-77c4-4e22-a62c-d887292ff83c",
   "metadata": {},
   "outputs": [],
   "source": []
  }
 ],
 "metadata": {
  "kernelspec": {
   "display_name": "Python 3 (ipykernel)",
   "language": "python",
   "name": "python3"
  },
  "language_info": {
   "codemirror_mode": {
    "name": "ipython",
    "version": 3
   },
   "file_extension": ".py",
   "mimetype": "text/x-python",
   "name": "python",
   "nbconvert_exporter": "python",
   "pygments_lexer": "ipython3",
   "version": "3.10.13"
  }
 },
 "nbformat": 4,
 "nbformat_minor": 5
}
